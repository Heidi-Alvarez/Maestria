{
 "cells": [
  {
   "cell_type": "code",
   "execution_count": 1,
   "id": "c18ca764",
   "metadata": {},
   "outputs": [
    {
     "name": "stderr",
     "output_type": "stream",
     "text": [
      "/usr/lib/python3/dist-packages/scipy/__init__.py:146: UserWarning: A NumPy version >=1.17.3 and <1.25.0 is required for this version of SciPy (detected version 1.26.3\n",
      "  warnings.warn(f\"A NumPy version >={np_minversion} and <{np_maxversion}\"\n"
     ]
    }
   ],
   "source": [
    "import numpy as np\n",
    "import matplotlib.pyplot as plt\n",
    "\n",
    "from scipy.special import i0, i1, k0, k1"
   ]
  },
  {
   "cell_type": "markdown",
   "id": "5e51b572",
   "metadata": {},
   "source": [
    "Abordaremos el problema del Phantom Dark Matter para el disco exponencial en z=0. \n",
    "Partiendo de la ecuación de Poisson, calcularemos la densidad de phantom dark matter para luego graficarla respecto al radio. Veremos qué sucede."
   ]
  },
  {
   "cell_type": "markdown",
   "id": "a0bc6acb",
   "metadata": {},
   "source": [
    "Primero construiremos las funciones de las derivadas primera y segunda del potencial gravitacional newtoniano para el disco exponencial en z=0."
   ]
  },
  {
   "cell_type": "code",
   "execution_count": 2,
   "id": "b6dc7da1",
   "metadata": {},
   "outputs": [],
   "source": [
    "## Definimos las constantes\n",
    "\n",
    "G = 430007.1\n",
    "\n",
    "a_0 = 4679.4 ## [kpc/Gyr^2]  "
   ]
  },
  {
   "cell_type": "code",
   "execution_count": 3,
   "id": "f6c8cbd7",
   "metadata": {},
   "outputs": [],
   "source": [
    "## Definimos las funciones de las derivadas primera y segunda del potencial en el perfil de Hernquist\n",
    "\n",
    "\n",
    "def PrimeraPotencial(M, h, r):\n",
    "    Sigma_0 = M / (2.0 * h * h)\n",
    "    y = r / (2.0 * h)\n",
    "    PrimeraPotencial = 2.0 * np.pi * G * Sigma_0 * y * (i0(y)*k0(y) - i1(y)*k1(y))\n",
    "    return PrimeraPotencial\n",
    "\n",
    "def SegundaPotencial(M, h, r):\n",
    "    Sigma_0 = M / (2.0 * h * h)\n",
    "    y = r / (2.0 * h)  \n",
    "    SegundaPotencial = (np.pi * G * Sigma_0 / h) * (i0(y)*k0(y) - i1(y)*k1(y) - 2.0*i1(y)*k1(y) + y*(i1(y)*k0(y) \n",
    "                                                                                                     - i0(y)*k1(y)) )\n",
    "    return SegundaPotencial"
   ]
  },
  {
   "cell_type": "code",
   "execution_count": 4,
   "id": "1aa1291a",
   "metadata": {},
   "outputs": [],
   "source": [
    "## Definimos la densidad de phantom dark matter para las funciones de interpolación de mu,\n",
    "\n",
    "## R.A.R.\n",
    "\n",
    "def mu_RAR(M, h, r):\n",
    "    a = PrimeraPotencial(M, h, r)\n",
    "    mu_RAR = 1.0 / (1.0 - np.exp( -np.sqrt(a / a_0) ) )\n",
    "    return mu_RAR\n",
    "\n",
    "def PDM_RAR(M, h, r):\n",
    "    a = PrimeraPotencial(M, h, r)\n",
    "    PDM_RAR = (1.0 / (4.0 * np.pi * G)) * (-mu_RAR(M, h, r) * mu_RAR(M, h, r) * np.exp(-np.sqrt(a/a_0))) / (2.0 * \n",
    "                np.sqrt(a_0 * a)) * SegundaPotencial(M, h, r) * a\n",
    "    return PDM_RAR\n",
    "\n",
    "\n",
    "## Simple\n",
    "\n",
    "def mu_Simple(M, h, r):\n",
    "    a = PrimeraPotencial(M, h, r)\n",
    "    mu_Simple = 0.5 * (1 + np.sqrt(1.0 + 4.0*a_0/a))\n",
    "    return mu_Simple\n",
    "\n",
    "def PDM_Simple(M, h, r):\n",
    "    a = PrimeraPotencial(M, h, r)\n",
    "    PDM_Simple = (1.0 / (4.0 * np.pi * G)) * (-a_0 / (a * a * np.sqrt(1.0 + 4.0*a_0/a))) * SegundaPotencial(M, h, r) * PrimeraPotencial(M, h, r)\n",
    "    return PDM_Simple\n",
    "\n",
    "\n",
    "\n",
    "## Standard\n",
    "\n",
    "def mu_Standar(M, h, r):\n",
    "    a = PrimeraPotencial(M, h, r)\n",
    "    mu_Standar = np.sqrt(0.5 * (1.0 + np.sqrt(1.0 + 4.0*a_0/a)))\n",
    "    return mu_Standar\n",
    "\n",
    "def PDM_Standard(M, h, r):\n",
    "    a = PrimeraPotencial(M, h, r)\n",
    "    PDM_Standard = (1.0 / (4.0 * np.pi * G)) * (-a_0 * a_0 /(mu_Standar(M, h, r) * a * a *a * np.sqrt(1.0 + 4.0*a_0*a_0/(a*a)))) * SegundaPotencial(M, h, r) * PrimeraPotencial(M, h, r)\n",
    "    return PDM_Standard\n"
   ]
  },
  {
   "cell_type": "code",
   "execution_count": 5,
   "id": "42df9aff",
   "metadata": {},
   "outputs": [],
   "source": [
    "## Definimos el vector de posición r y le damos un valor arbitrario a los parámetros\n",
    "\n",
    "r = np.arange(0.1, 20.0, 0.05)\n",
    "\n",
    "M = 1.0\n",
    "\n",
    "h = 2.0"
   ]
  },
  {
   "cell_type": "code",
   "execution_count": 7,
   "id": "d5c73972",
   "metadata": {},
   "outputs": [
    {
     "data": {
      "text/plain": [
       "<matplotlib.legend.Legend at 0x7b2fc3562b00>"
      ]
     },
     "execution_count": 7,
     "metadata": {},
     "output_type": "execute_result"
    },
    {
     "data": {
      "image/png": "[encoded data removed]",
      "text/plain": [
       "<Figure size 432x288 with 1 Axes>"
      ]
     },
     "metadata": {
      "needs_background": "light"
     },
     "output_type": "display_data"
    }
   ],
   "source": [
    "## Graficamos las respectivas densidades de PDM\n",
    "\n",
    "plt.plot(r, PDM_RAR(M, h, r), label='RAR')\n",
    "plt.plot(r, PDM_Simple(M, h, r), label='Simple')\n",
    "plt.plot(r, PDM_Standard(M, h, r), label='Standard')\n",
    "plt.legend()"
   ]
  },
  {
   "cell_type": "code",
   "execution_count": 11,
   "id": "9d75cf2c",
   "metadata": {},
   "outputs": [
    {
     "data": {
      "text/plain": [
       "(-0.003, 0.001)"
      ]
     },
     "execution_count": 11,
     "metadata": {},
     "output_type": "execute_result"
    },
    {
     "data": {
      "image/png": "[encoded data removed]",
      "text/plain": [
       "<Figure size 432x288 with 1 Axes>"
      ]
     },
     "metadata": {
      "needs_background": "light"
     },
     "output_type": "display_data"
    }
   ],
   "source": [
    "plt.plot(r, PDM_RAR(M, h, r), label='RAR')\n",
    "plt.plot(r, PDM_Simple(M, h, r), label='Simple')\n",
    "plt.plot(r, PDM_Standard(M, h, r), label='Standard')\n",
    "plt.legend()\n",
    "plt.xlim(0, 1.0)\n",
    "plt.ylim(-0.003, 0.001)\n"
   ]
  },
  {
   "cell_type": "code",
   "execution_count": null,
   "id": "b71db1fd",
   "metadata": {},
   "outputs": [],
   "source": []
  }
 ],
 "metadata": {
  "kernelspec": {
   "display_name": "Python 3 (ipykernel)",
   "language": "python",
   "name": "python3"
  },
  "language_info": {
   "codemirror_mode": {
    "name": "ipython",
    "version": 3
   },
   "file_extension": ".py",
   "mimetype": "text/x-python",
   "name": "python",
   "nbconvert_exporter": "python",
   "pygments_lexer": "ipython3",
   "version": "3.10.12"
  }
 },
 "nbformat": 4,
 "nbformat_minor": 5
}
