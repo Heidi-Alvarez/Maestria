{
 "cells": [
  {
   "cell_type": "code",
   "execution_count": 1,
   "id": "a098ff30",
   "metadata": {},
   "outputs": [],
   "source": [
    "import numpy as np\n",
    "import matplotlib.pyplot as plt"
   ]
  },
  {
   "cell_type": "markdown",
   "id": "18c1432c",
   "metadata": {},
   "source": [
    "En este código se intentará replicar los resultados de los artículos J. G. OBrien et al, 2018 y X. Lin et al, 2017 para los cuales las velocidades circulares mondianas para Simple y Standard son las siguientes:\n",
    "\n",
    "$V_{M} = \\frac{V_N}{2} \\sqrt{1 + \\sqrt{1 + \\frac{4a_0 R}{V^2_N}}}$  y $V_M = \\sqrt{ \\sqrt{ \\frac{V^4_N}{2} + \\sqrt{ \\frac{V^8_N}{4} + R^2 a^2_0 V^4_N }} }$ respectivamente.\n",
    "\n",
    "Para R.A.R. Tomamos la función te interpolación de V.Marra et al, 2020. De donde se obtiene que la velocidad circular mondiana es:\n",
    "\n",
    "$V_M = \\frac{V_N}{\\sqrt{ 1 - e^{-\\sqrt{ \\frac{V^2_N}{Ra_0} }} }}$.\n",
    "\n",
    "Acá sólo trataremos el perfil de Hernquist."
   ]
  },
  {
   "cell_type": "code",
   "execution_count": 2,
   "id": "d52be3ad",
   "metadata": {},
   "outputs": [],
   "source": [
    "## Creamos el vector r [1 kpc], desde 0 hasta 10 con paso de 0.1\n",
    "\n",
    "r = np.arange(0.01,20.1, 0.01)\n",
    "\n",
    "## Definamos las constantes\n",
    "\n",
    "M = 1.0 ## 10^10 masas solares. Masa del bulbo de la Vía Láctea\n",
    "\n",
    "G = 430007.1\n",
    "\n",
    "a_0 = 4679.4 ## [kpc/Gyr^2]  \n",
    "\n",
    "b = 2.0 ## escala característica del bulbo\n",
    "\n",
    "## Definimos la velocidad circular newtoniana de acuerdo al modelo de Hernquist\n",
    "\n",
    "def V_N(r):\n",
    "    a_N = (G*M)/((r+b)*(r+b))  ## Aceleración Newtoniana con el perfil de Hernquist\n",
    "    V_N = np.sqrt(r * a_N)\n",
    "    return V_N"
   ]
  },
  {
   "cell_type": "code",
   "execution_count": 3,
   "id": "87783865",
   "metadata": {},
   "outputs": [],
   "source": [
    "## Definimos las velocidades circulares mondianas para R.A.R., Simple y Standard\n",
    "\n",
    "def V_RAR(r):\n",
    "    V_RAR = V_N(r) / (np.sqrt(1.0 - np.exp(-np.sqrt(V_N(r)*V_N(r) / ( r * a_0 )))))\n",
    "    return V_RAR\n",
    "\n",
    "def V_Simple(r):\n",
    "    V_Simple = (V_N(r) / np.sqrt(2.0)) * np.sqrt(1.0 + 4.0*a_0*r / (V_N(r)*V_N(r)))\n",
    "    return V_Simple\n",
    "\n",
    "def V_Standard(r):\n",
    "    V_N_4 = V_N(r) * V_N(r) * V_N(r) * V_N(r)\n",
    "    V_Standard_cuadrado = np.sqrt(V_N_4 / 2.0 + np.sqrt(V_N_4*V_N_4/4.0 + r*r*a_0*a_0*V_N_4))\n",
    "    V_Standard = np.sqrt(V_Standard_cuadrado)\n",
    "    return V_Standard"
   ]
  },
  {
   "cell_type": "code",
   "execution_count": 4,
   "id": "556d1b68",
   "metadata": {},
   "outputs": [
    {
     "data": {
      "text/plain": [
       "<matplotlib.legend.Legend at 0x7606a65b1360>"
      ]
     },
     "execution_count": 4,
     "metadata": {},
     "output_type": "execute_result"
    },
    {
     "data": {
      "image/png": "[encoded data removed]",
      "text/plain": [
       "<Figure size 432x288 with 1 Axes>"
      ]
     },
     "metadata": {
      "needs_background": "light"
     },
     "output_type": "display_data"
    }
   ],
   "source": [
    "## Graficamos las diferentes formas funcionales\n",
    "\n",
    "plt.plot(r, V_RAR(r), label='R.A.R.')\n",
    "plt.plot(r, V_Simple(r), label='Simple')\n",
    "plt.plot(r, V_Standard(r), label='Standard')\n",
    "plt.legend()"
   ]
  },
  {
   "cell_type": "code",
   "execution_count": null,
   "id": "78bda7a9",
   "metadata": {},
   "outputs": [],
   "source": []
  }
 ],
 "metadata": {
  "kernelspec": {
   "display_name": "Python 3 (ipykernel)",
   "language": "python",
   "name": "python3"
  },
  "language_info": {
   "codemirror_mode": {
    "name": "ipython",
    "version": 3
   },
   "file_extension": ".py",
   "mimetype": "text/x-python",
   "name": "python",
   "nbconvert_exporter": "python",
   "pygments_lexer": "ipython3",
   "version": "3.10.12"
  }
 },
 "nbformat": 4,
 "nbformat_minor": 5
}
