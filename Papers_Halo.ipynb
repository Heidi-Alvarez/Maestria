{
 "cells": [
  {
   "cell_type": "code",
   "execution_count": 1,
   "id": "0ca99ba5",
   "metadata": {},
   "outputs": [],
   "source": [
    "import numpy as np\n",
    "import matplotlib.pyplot as plt"
   ]
  },
  {
   "cell_type": "markdown",
   "id": "65f9d832",
   "metadata": {},
   "source": [
    "En este código se intentará replicar los resultados de los artículos J. G. OBrien et al, 2018 y X. Lin et al, 2017 para los cuales las velocidades circulares mondianas para Simple y Standard son las siguientes:\n",
    "\n",
    "$V_{M} = \\frac{V_N}{2} \\sqrt{1 + \\sqrt{1 + \\frac{4a_0 R}{V^2_N}}}$  y $V_M = \\sqrt{ \\sqrt{ \\frac{V^4_N}{2} + \\sqrt{ \\frac{V^8_N}{4} + R^2 a^2_0 V^4_N }} }$ respectivamente.\n",
    "\n",
    "Para R.A.R. Tomamos la función te interpolación de V.Marra et al, 2020. De donde se obtiene que la velocidad circular mondiana es:\n",
    "\n",
    "$V_M = \\frac{V_N}{\\sqrt{ 1 - e^{-\\sqrt{ \\frac{V^2_N}{Ra_0} }} }}$.\n",
    "\n",
    "Acá tendremos las tres componentes de la galaxia: bulbo, disco, halo. Para el bulbo y el halo usaremos el perfil de Hernquist y para el disco el perfil del disco exponencial."
   ]
  },
  {
   "cell_type": "code",
   "execution_count": 2,
   "id": "78cc97de",
   "metadata": {},
   "outputs": [],
   "source": [
    "## Creamos el vector r [1 kpc], desde 0 hasta 50 con paso de 0.01\n",
    "\n",
    "r = np.arange(0.001, 50.1, 0.01)  ## Unidad de referencia de longitud 1kpc\n",
    "\n",
    "## Definamos las constantes\n",
    "\n",
    "G = 430007.1  ## Unidad de referencia de tiempo 1.1Gyr\n",
    "\n",
    "a_0 = 4679.4 ## [kpc/Gyr^2]"
   ]
  },
  {
   "cell_type": "code",
   "execution_count": 3,
   "id": "96ab90e6",
   "metadata": {},
   "outputs": [
    {
     "name": "stderr",
     "output_type": "stream",
     "text": [
      "/usr/lib/python3/dist-packages/scipy/__init__.py:146: UserWarning: A NumPy version >=1.17.3 and <1.25.0 is required for this version of SciPy (detected version 1.26.3\n",
      "  warnings.warn(f\"A NumPy version >={np_minversion} and <{np_maxversion}\"\n"
     ]
    }
   ],
   "source": [
    "## Definimos las funciones de la velocidad circular del disco y del bulbo \n",
    "\n",
    "from scipy.special import i0, i1, k0, k1\n",
    "\n",
    "def V_Halo(M_h, b_h, r):\n",
    "    vel_cir_halo_cuadrado = (r*G*M_h)/((r+b_h)*(r+b_h))\n",
    "    V_Halo = np.sqrt(vel_cir_halo_cuadrado)\n",
    "    return V_Halo\n",
    "\n",
    "def V_Disco(M_d, r):\n",
    "    R_d = 1.6\n",
    "    Sigma_0 = M_d/(2*np.pi*R_d*R_d)\n",
    "    y = r/(2.0*R_d)\n",
    "    vel_cir_disco_cuadrado = ((0.5*np.pi*G*Sigma_0*r*r)/R_d)*(i0(y)*k0(y) - i1(y)*k1(y))\n",
    "    V_Disco = np.sqrt(vel_cir_disco_cuadrado)\n",
    "    return V_Disco\n",
    "\n",
    "def V_Bulbo(M_b, r):\n",
    "    b = 0.4\n",
    "    vel_cir_bulbo_cuadrado = (r*G*M_b)/((r+b)*(r+b))\n",
    "    V_Bulbo = np.sqrt(vel_cir_bulbo_cuadrado)\n",
    "    return V_Bulbo"
   ]
  },
  {
   "cell_type": "code",
   "execution_count": 4,
   "id": "dfe7a570",
   "metadata": {},
   "outputs": [],
   "source": [
    "## Definimos las velocidades circulares mondianas para R.A.R., Simple y Standard\n",
    "\n",
    "def V_RAR(M_h, b_h, M_b, M_d, r):\n",
    "    V_N = np.sqrt(V_Bulbo(M_b, r)*V_Bulbo(M_b, r) + V_Disco(M_d, r)*V_Disco(M_d, r) +\n",
    "                 V_Halo(M_h, b_h, r)*V_Halo(M_h, b_h, r))\n",
    "    V_RAR = V_N / (np.sqrt(1.0 - np.exp(-np.sqrt(V_N*V_N / ( r * a_0 )))))\n",
    "    return V_RAR\n",
    "\n",
    "def V_Simple(M_h, b_h, M_b, M_d, r):\n",
    "    V_N = np.sqrt(V_Bulbo(M_b, r)*V_Bulbo(M_b, r) + V_Disco(M_d, r)*V_Disco(M_d, r) +\n",
    "                 V_Halo(M_h, b_h, r)*V_Halo(M_h, b_h, r))\n",
    "    V_Simple = (V_N / np.sqrt(2.0)) * np.sqrt(1.0 + 4.0*a_0*r / (V_N*V_N))\n",
    "    return V_Simple\n",
    "\n",
    "def V_Standard(M_h, b_h, M_b, M_d, r):\n",
    "    V_N = np.sqrt(V_Bulbo(M_b, r)*V_Bulbo(M_b, r) + V_Disco(M_d, r)*V_Disco(M_d, r) +\n",
    "                 V_Halo(M_h, b_h, r)*V_Halo(M_h, b_h, r))\n",
    "    V_N_4 = V_N * V_N * V_N * V_N\n",
    "    V_Standard_cuadrado = np.sqrt(V_N_4 / 2.0 + np.sqrt(V_N_4*V_N_4/4.0 + r*r*a_0*a_0*V_N_4))\n",
    "    V_Standard = np.sqrt(V_Standard_cuadrado)\n",
    "    return V_Standard"
   ]
  },
  {
   "cell_type": "code",
   "execution_count": 5,
   "id": "bd58c215",
   "metadata": {},
   "outputs": [
    {
     "data": {
      "text/plain": [
       "<matplotlib.legend.Legend at 0x7cc257412440>"
      ]
     },
     "execution_count": 5,
     "metadata": {},
     "output_type": "execute_result"
    },
    {
     "data": {
      "image/png": "[encoded data removed]",
      "text/plain": [
       "<Figure size 432x288 with 1 Axes>"
      ]
     },
     "metadata": {
      "needs_background": "light"
     },
     "output_type": "display_data"
    }
   ],
   "source": [
    "plt.plot(r, V_RAR(2.0, 2.0, 0.5, 1.0, r), label='RAR')\n",
    "plt.plot(r, V_Simple(2.0, 2.0, 0.5, 1.0, r), label='Simple')\n",
    "plt.plot(r, V_Standard(2.0, 2.0, 0.5, 1.0, r), label='Standard')\n",
    "plt.legend()"
   ]
  },
  {
   "cell_type": "code",
   "execution_count": 6,
   "id": "362b3cb5",
   "metadata": {},
   "outputs": [
    {
     "name": "stderr",
     "output_type": "stream",
     "text": [
      "/tmp/ipykernel_18685/2401265028.py:3: DeprecationWarning: \n",
      "Pyarrow will become a required dependency of pandas in the next major release of pandas (pandas 3.0),\n",
      "(to allow more performant data types, such as the Arrow string type, and better interoperability with other libraries)\n",
      "but was not found to be installed on your system.\n",
      "If this would cause problems for you,\n",
      "please provide us feedback at https://github.com/pandas-dev/pandas/issues/54466\n",
      "        \n",
      "  import pandas as pd\n",
      "/tmp/ipykernel_18685/2401265028.py:5: ParserWarning: Falling back to the 'python' engine because the 'c' engine does not support regex separators (separators > 1 char and different from '\\s+' are interpreted as regex); you can avoid this warning by specifying engine='python'.\n",
      "  datos = pd.read_csv('Datos_NGC2403_CurvaRotacion', sep='   ')\n"
     ]
    }
   ],
   "source": [
    "## Galaxia real\n",
    "\n",
    "import pandas as pd\n",
    "\n",
    "datos = pd.read_csv('Datos_NGC2403_CurvaRotacion', sep='   ')"
   ]
  },
  {
   "cell_type": "code",
   "execution_count": 7,
   "id": "c08b87f4",
   "metadata": {},
   "outputs": [
    {
     "data": {
      "text/html": [
       "<div>\n",
       "<style scoped>\n",
       "    .dataframe tbody tr th:only-of-type {\n",
       "        vertical-align: middle;\n",
       "    }\n",
       "\n",
       "    .dataframe tbody tr th {\n",
       "        vertical-align: top;\n",
       "    }\n",
       "\n",
       "    .dataframe thead th {\n",
       "        text-align: right;\n",
       "    }\n",
       "</style>\n",
       "<table border=\"1\" class=\"dataframe\">\n",
       "  <thead>\n",
       "    <tr style=\"text-align: right;\">\n",
       "      <th></th>\n",
       "      <th>R(kpc)</th>\n",
       "      <th>V(km/s)</th>\n",
       "    </tr>\n",
       "  </thead>\n",
       "  <tbody>\n",
       "    <tr>\n",
       "      <th>0</th>\n",
       "      <td>0.05</td>\n",
       "      <td>53.95123</td>\n",
       "    </tr>\n",
       "    <tr>\n",
       "      <th>1</th>\n",
       "      <td>0.10</td>\n",
       "      <td>60.44677</td>\n",
       "    </tr>\n",
       "    <tr>\n",
       "      <th>2</th>\n",
       "      <td>0.15</td>\n",
       "      <td>66.02752</td>\n",
       "    </tr>\n",
       "    <tr>\n",
       "      <th>3</th>\n",
       "      <td>0.20</td>\n",
       "      <td>69.54928</td>\n",
       "    </tr>\n",
       "    <tr>\n",
       "      <th>4</th>\n",
       "      <td>0.25</td>\n",
       "      <td>71.69053</td>\n",
       "    </tr>\n",
       "  </tbody>\n",
       "</table>\n",
       "</div>"
      ],
      "text/plain": [
       "   R(kpc)   V(km/s)\n",
       "0    0.05  53.95123\n",
       "1    0.10  60.44677\n",
       "2    0.15  66.02752\n",
       "3    0.20  69.54928\n",
       "4    0.25  71.69053"
      ]
     },
     "execution_count": 7,
     "metadata": {},
     "output_type": "execute_result"
    }
   ],
   "source": [
    "datos.head()"
   ]
  },
  {
   "cell_type": "code",
   "execution_count": 8,
   "id": "5ea6e7ca",
   "metadata": {},
   "outputs": [
    {
     "name": "stdout",
     "output_type": "stream",
     "text": [
      "<class 'pandas.core.frame.DataFrame'>\n",
      "RangeIndex: 394 entries, 0 to 393\n",
      "Data columns (total 2 columns):\n",
      " #   Column   Non-Null Count  Dtype  \n",
      "---  ------   --------------  -----  \n",
      " 0   R(kpc)   394 non-null    float64\n",
      " 1   V(km/s)  394 non-null    float64\n",
      "dtypes: float64(2)\n",
      "memory usage: 6.3 KB\n"
     ]
    }
   ],
   "source": [
    "datos.info()"
   ]
  },
  {
   "cell_type": "code",
   "execution_count": 9,
   "id": "f090bd47",
   "metadata": {},
   "outputs": [],
   "source": [
    "x = np.array(datos['R(kpc)'])\n",
    "y = np.array(datos['V(km/s)'])"
   ]
  },
  {
   "cell_type": "code",
   "execution_count": 10,
   "id": "fe08f4c9",
   "metadata": {},
   "outputs": [
    {
     "data": {
      "text/plain": [
       "<matplotlib.collections.PathCollection at 0x7cc2531d8bb0>"
      ]
     },
     "execution_count": 10,
     "metadata": {},
     "output_type": "execute_result"
    },
    {
     "data": {
      "image/png": "[encoded data removed]",
      "text/plain": [
       "<Figure size 432x288 with 1 Axes>"
      ]
     },
     "metadata": {
      "needs_background": "light"
     },
     "output_type": "display_data"
    }
   ],
   "source": [
    "plt.scatter(x, y)"
   ]
  },
  {
   "cell_type": "markdown",
   "id": "46a217f4",
   "metadata": {},
   "source": [
    "Ahora vamos a probar las velocidades circulares mondianas con una galaxia real, de la cual sabemos, según X. Kang et al, 2023, que $R_d = 1.6 Kpc$ y la masa estelar $M_{estelar} = 5.01 x 10^9 M_{solares}$."
   ]
  },
  {
   "cell_type": "code",
   "execution_count": 11,
   "id": "fd4bae23",
   "metadata": {},
   "outputs": [],
   "source": [
    "from scipy.optimize import curve_fit"
   ]
  },
  {
   "cell_type": "code",
   "execution_count": 12,
   "id": "043371a0",
   "metadata": {},
   "outputs": [
    {
     "name": "stdout",
     "output_type": "stream",
     "text": [
      "Error M_h: 45.89105138672052 \n",
      "Error R_h: 160141.21690128936 \n",
      "Error M_b: 509267.42097231385 \n",
      "Error M_d: 4.306240046468063\n",
      "M_h= 38.93136199300158 \n",
      "R_h= 0.0010000000002198103 \n",
      "M_b= 0.1000000000000309 \n",
      "M_d= 2.1173585800529686\n"
     ]
    },
    {
     "data": {
      "text/plain": [
       "<matplotlib.legend.Legend at 0x7cc252d6bf10>"
      ]
     },
     "execution_count": 12,
     "metadata": {},
     "output_type": "execute_result"
    },
    {
     "data": {
      "image/png": "[encoded data removed]",
      "text/plain": [
       "<Figure size 432x288 with 1 Axes>"
      ]
     },
     "metadata": {
      "needs_background": "light"
     },
     "output_type": "display_data"
    }
   ],
   "source": [
    "## R.A.R.\n",
    "\n",
    "## Recordemos: V_RAR(M_b, b, M_d, R_d, r)\n",
    "\n",
    "p_inicial = (0.5, 0.5, 1.0, 1.0)\n",
    "\n",
    "limite_inferior = [0.001, 0.001, 0.1, 1]\n",
    "limite_superior = [100.0, 100.0, 10.0, 10.0]\n",
    "\n",
    "params_RAR, cov_RAR = curve_fit(V_RAR, x, y, method='trf', p0=p_inicial, bounds=(limite_inferior, limite_superior))\n",
    "\n",
    "\n",
    "error_RAR = np.sqrt(np.diag(cov_RAR))\n",
    "\n",
    "print('Error M_h:', error_RAR[0], '\\nError R_h:', error_RAR[1], '\\nError M_b:', error_RAR[2], \n",
    "      '\\nError M_d:', error_RAR[3])\n",
    "\n",
    "\n",
    "print('M_h=', params_RAR[0], '\\nR_h=', params_RAR[1], '\\nM_b=', params_RAR[2], '\\nM_d=', params_RAR[3])\n",
    "\n",
    "y_pred_RAR = V_RAR(x, params_RAR[0], params_RAR[1], params_RAR[2], params_RAR[3])\n",
    "\n",
    "\n",
    "plt.plot(x, y_pred_RAR, '--', label='RAR')\n",
    "plt.plot(x, y, '*', label='Datos')\n",
    "plt.legend()"
   ]
  },
  {
   "cell_type": "code",
   "execution_count": 13,
   "id": "617a2e26",
   "metadata": {},
   "outputs": [
    {
     "name": "stdout",
     "output_type": "stream",
     "text": [
      "Error M_h: 3574048.5356128663 \n",
      "Error R_h: 52411.65349942224 \n",
      "Error M_b: 540673.4517903271 \n",
      "Error M_d: 391849.03902559134\n",
      "M_h= 19.24196672365002 \n",
      "R_h= 0.0010000000008343953 \n",
      "M_b= 0.10000000000175956 \n",
      "M_d= 1.0000000000010854\n"
     ]
    },
    {
     "data": {
      "text/plain": [
       "<matplotlib.legend.Legend at 0x7cc25274ef80>"
      ]
     },
     "execution_count": 13,
     "metadata": {},
     "output_type": "execute_result"
    },
    {
     "data": {
      "image/png": "[encoded data removed]",
      "text/plain": [
       "<Figure size 432x288 with 1 Axes>"
      ]
     },
     "metadata": {
      "needs_background": "light"
     },
     "output_type": "display_data"
    }
   ],
   "source": [
    "## Simple\n",
    "\n",
    "## Recordemos: V_Simple(M_b, b, M_d, R_d, r)\n",
    "\n",
    "p_inicial = (0.5, 0.5, 1.0, 1.0)\n",
    "\n",
    "limite_inferior = [0.001, 0.001, 0.1, 1]\n",
    "limite_superior = [100.0, 100.0, 10.0, 10.0]\n",
    "\n",
    "params_Simple, cov_Simple = curve_fit(V_Simple, x, y, method='trf', p0=p_inicial, \n",
    "                                      bounds=(limite_inferior, limite_superior))\n",
    "\n",
    "\n",
    "error_Simple = np.sqrt(np.diag(cov_Simple))\n",
    "\n",
    "print('Error M_h:', error_Simple[0], '\\nError R_h:', error_Simple[1], '\\nError M_b:', error_Simple[2], \n",
    "      '\\nError M_d:', error_Simple[3])\n",
    "\n",
    "\n",
    "print('M_h=', params_Simple[0], '\\nR_h=', params_Simple[1], '\\nM_b=', params_Simple[2], '\\nM_d=', params_Simple[3])\n",
    "\n",
    "y_pred_Simple = V_Simple(x, params_Simple[0], params_Simple[1], params_Simple[2], params_Simple[3])\n",
    "\n",
    "\n",
    "plt.plot(x, y_pred_Simple, '--', label='Simple')\n",
    "plt.plot(x, y, '*', label='Datos')\n",
    "plt.legend()"
   ]
  },
  {
   "cell_type": "code",
   "execution_count": 14,
   "id": "f931c15d",
   "metadata": {},
   "outputs": [
    {
     "name": "stdout",
     "output_type": "stream",
     "text": [
      "Error M_h: 16.85547065157431 \n",
      "Error R_h: 321756.0546499545 \n",
      "Error M_b: 659868.3003044646 \n",
      "Error M_d: 2.389806254149245\n",
      "M_h= 43.8165753961048 \n",
      "R_h= 0.0010000000000000293 \n",
      "M_b= 0.10000000000000002 \n",
      "M_d= 3.195492816526969\n"
     ]
    },
    {
     "data": {
      "text/plain": [
       "<matplotlib.legend.Legend at 0x7cc24a610c40>"
      ]
     },
     "execution_count": 14,
     "metadata": {},
     "output_type": "execute_result"
    },
    {
     "data": {
      "image/png": "[encoded data removed]",
      "text/plain": [
       "<Figure size 432x288 with 1 Axes>"
      ]
     },
     "metadata": {
      "needs_background": "light"
     },
     "output_type": "display_data"
    }
   ],
   "source": [
    "## Standard\n",
    "\n",
    "## Recordemos: V_Standard(M_b, b, M_d, R_d, r)\n",
    "\n",
    "p_inicial = (1.5, 1.5, 0.5, 1.0)\n",
    "\n",
    "limite_inferior = [0.001, 0.001, 0.1, 1]\n",
    "limite_superior = [100.0, 100.0, 10.0, 10.0]\n",
    "\n",
    "params_Standard, cov_Standard = curve_fit(V_Standard, x, y, method='trf', p0=p_inicial, \n",
    "                                      bounds=(limite_inferior, limite_superior))\n",
    "\n",
    "\n",
    "error_Standard = np.sqrt(np.diag(cov_Standard))\n",
    "\n",
    "print('Error M_h:', error_Standard[0], '\\nError R_h:', error_Standard[1], '\\nError M_b:', error_Standard[2], \n",
    "      '\\nError M_d:', error_Standard[3])\n",
    "\n",
    "\n",
    "print('M_h=', params_Standard[0], '\\nR_h=', params_Standard[1], '\\nM_b=', params_Standard[2], \n",
    "      '\\nM_d=', params_Standard[3])\n",
    "\n",
    "y_pred_Standard = V_Standard(x, params_Standard[0], params_Standard[1], params_Standard[2], params_Standard[3])\n",
    "\n",
    "\n",
    "plt.plot(x, y_pred_Standard, '--', label='Standard')\n",
    "plt.plot(x, y, '*', label='Datos')\n",
    "plt.legend()"
   ]
  },
  {
   "cell_type": "code",
   "execution_count": 15,
   "id": "a90926cf",
   "metadata": {},
   "outputs": [
    {
     "data": {
      "text/plain": [
       "<matplotlib.legend.Legend at 0x7cc24a666020>"
      ]
     },
     "execution_count": 15,
     "metadata": {},
     "output_type": "execute_result"
    },
    {
     "data": {
      "image/png": "[encoded data removed]",
      "text/plain": [
       "<Figure size 432x288 with 1 Axes>"
      ]
     },
     "metadata": {
      "needs_background": "light"
     },
     "output_type": "display_data"
    }
   ],
   "source": [
    "plt.plot(x, y_pred_RAR, '--', label='RAR')\n",
    "plt.plot(x, y_pred_Simple, '--', label='Simple')\n",
    "plt.plot(x, y_pred_Standard, '--', label='Standard')\n",
    "plt.plot(x, y, '*', label='Datos')\n",
    "plt.legend()"
   ]
  },
  {
   "cell_type": "code",
   "execution_count": 39,
   "id": "c63d0e03",
   "metadata": {},
   "outputs": [],
   "source": [
    "## Veamos con Iminuit\n",
    "from iminuit import Minuit\n",
    "\n",
    "# Definir la función de error (chi-cuadrado) a minimizar\n",
    "def chi2(M_h, R_h, M_b, M_d):\n",
    "    return sum((y - V_RAR(x, M_h, R_h, M_b, M_d))**2)\n",
    "\n",
    "# Crear una instancia de Minuit y minimizar el chi-cuadrado\n",
    "minuit_chi2 = Minuit(chi2,\n",
    "                M_h=10, R_h=1, M_b=10, M_d=2)\n",
    "\n",
    "minuit_chi2.limits['M_h'] = (0.1,10)\n",
    "minuit_chi2.limits['R_h'] = (0.1,10)\n",
    "minuit_chi2.limits['M_b'] = (0.1,10)\n",
    "minuit_chi2.limits['M_d'] = (0.1,10)"
   ]
  },
  {
   "cell_type": "code",
   "execution_count": 40,
   "id": "af2a511d",
   "metadata": {},
   "outputs": [
    {
     "data": {
      "text/html": [
       "<table>\n",
       "    <tr>\n",
       "        <th colspan=\"2\" style=\"text-align:center\" title=\"Minimizer\"> Migrad </th>\n",
       "    </tr>\n",
       "    <tr>\n",
       "        <td style=\"text-align:left\" title=\"Minimum value of function\"> FCN = 2.35e+05 </td>\n",
       "        <td style=\"text-align:center\" title=\"Total number of function and (optional) gradient evaluations\"> Nfcn = 268 </td>\n",
       "    </tr>\n",
       "    <tr>\n",
       "        <td style=\"text-align:left\" title=\"Estimated distance to minimum and goal\"> EDM = 5.15e-05 (Goal: 0.0002) </td>\n",
       "        <td style=\"text-align:center\" title=\"Total run time of algorithms\">  </td>\n",
       "    </tr>\n",
       "    <tr>\n",
       "        <td style=\"text-align:center;background-color:#92CCA6;color:black\"> Valid Minimum </td>\n",
       "        <td style=\"text-align:center;background-color:#92CCA6;color:black\"> Below EDM threshold (goal x 10) </td>\n",
       "    </tr>\n",
       "    <tr>\n",
       "        <td style=\"text-align:center;background-color:#FFF79A;color:black\"> SOME parameters at limit </td>\n",
       "        <td style=\"text-align:center;background-color:#92CCA6;color:black\"> Below call limit </td>\n",
       "    </tr>\n",
       "    <tr>\n",
       "        <td style=\"text-align:center;background-color:#92CCA6;color:black\"> Hesse ok </td>\n",
       "        <td style=\"text-align:center;background-color:#92CCA6;color:black\"> Covariance accurate </td>\n",
       "    </tr>\n",
       "</table><table>\n",
       "    <tr>\n",
       "        <td></td>\n",
       "        <th title=\"Variable name\"> Name </th>\n",
       "        <th title=\"Value of parameter\"> Value </th>\n",
       "        <th title=\"Hesse error\"> Hesse Error </th>\n",
       "        <th title=\"Minos lower error\"> Minos Error- </th>\n",
       "        <th title=\"Minos upper error\"> Minos Error+ </th>\n",
       "        <th title=\"Lower limit of the parameter\"> Limit- </th>\n",
       "        <th title=\"Upper limit of the parameter\"> Limit+ </th>\n",
       "        <th title=\"Is the parameter fixed in the fit\"> Fixed </th>\n",
       "    </tr>\n",
       "    <tr>\n",
       "        <th> 0 </th>\n",
       "        <td> M_h </td>\n",
       "        <td> 10.000000 </td>\n",
       "        <td> 0.000024 </td>\n",
       "        <td>  </td>\n",
       "        <td>  </td>\n",
       "        <td> 0.1 </td>\n",
       "        <td> 10 </td>\n",
       "        <td>  </td>\n",
       "    </tr>\n",
       "    <tr>\n",
       "        <th> 1 </th>\n",
       "        <td> R_h </td>\n",
       "        <td> 100.0000e-3 </td>\n",
       "        <td> 0.0001e-3 </td>\n",
       "        <td>  </td>\n",
       "        <td>  </td>\n",
       "        <td> 0.1 </td>\n",
       "        <td> 10 </td>\n",
       "        <td>  </td>\n",
       "    </tr>\n",
       "    <tr>\n",
       "        <th> 2 </th>\n",
       "        <td> M_b </td>\n",
       "        <td> 100.000e-3 </td>\n",
       "        <td> 0.021e-3 </td>\n",
       "        <td>  </td>\n",
       "        <td>  </td>\n",
       "        <td> 0.1 </td>\n",
       "        <td> 10 </td>\n",
       "        <td>  </td>\n",
       "    </tr>\n",
       "    <tr>\n",
       "        <th> 3 </th>\n",
       "        <td> M_d </td>\n",
       "        <td> 100.00000e-3 </td>\n",
       "        <td> 0.00012e-3 </td>\n",
       "        <td>  </td>\n",
       "        <td>  </td>\n",
       "        <td> 0.1 </td>\n",
       "        <td> 10 </td>\n",
       "        <td>  </td>\n",
       "    </tr>\n",
       "</table><table>\n",
       "    <tr>\n",
       "        <td></td>\n",
       "        <th> M_h </th>\n",
       "        <th> R_h </th>\n",
       "        <th> M_b </th>\n",
       "        <th> M_d </th>\n",
       "    </tr>\n",
       "    <tr>\n",
       "        <th> M_h </th>\n",
       "        <td> 6.89e-16 </td>\n",
       "        <td style=\"background-color:rgb(250,250,250);color:black\"> 0 </td>\n",
       "        <td style=\"background-color:rgb(250,250,250);color:black\"> -0 </td>\n",
       "        <td style=\"background-color:rgb(250,250,250);color:black\"> -0 </td>\n",
       "    </tr>\n",
       "    <tr>\n",
       "        <th> R_h </th>\n",
       "        <td style=\"background-color:rgb(250,250,250);color:black\"> 0 </td>\n",
       "        <td> 9.37e-19 </td>\n",
       "        <td style=\"background-color:rgb(250,250,250);color:black\"> 0 </td>\n",
       "        <td style=\"background-color:rgb(250,250,250);color:black\"> 0 </td>\n",
       "    </tr>\n",
       "    <tr>\n",
       "        <th> M_b </th>\n",
       "        <td style=\"background-color:rgb(250,250,250);color:black\"> -0 </td>\n",
       "        <td style=\"background-color:rgb(250,250,250);color:black\"> 0 </td>\n",
       "        <td> 2.5e-14 </td>\n",
       "        <td style=\"background-color:rgb(250,250,250);color:black\"> -0 </td>\n",
       "    </tr>\n",
       "    <tr>\n",
       "        <th> M_d </th>\n",
       "        <td style=\"background-color:rgb(250,250,250);color:black\"> -0 </td>\n",
       "        <td style=\"background-color:rgb(250,250,250);color:black\"> 0 </td>\n",
       "        <td style=\"background-color:rgb(250,250,250);color:black\"> -0 </td>\n",
       "        <td> 6.93e-19 </td>\n",
       "    </tr>\n",
       "</table>"
      ],
      "text/plain": [
       "┌─────────────────────────────────────────────────────────────────────────┐\n",
       "│                                Migrad                                   │\n",
       "├──────────────────────────────────┬──────────────────────────────────────┤\n",
       "│ FCN = 2.35e+05                   │              Nfcn = 268              │\n",
       "│ EDM = 5.15e-05 (Goal: 0.0002)    │                                      │\n",
       "├──────────────────────────────────┼──────────────────────────────────────┤\n",
       "│          Valid Minimum           │   Below EDM threshold (goal x 10)    │\n",
       "├──────────────────────────────────┼──────────────────────────────────────┤\n",
       "│     SOME parameters at limit     │           Below call limit           │\n",
       "├──────────────────────────────────┼──────────────────────────────────────┤\n",
       "│             Hesse ok             │         Covariance accurate          │\n",
       "└──────────────────────────────────┴──────────────────────────────────────┘\n",
       "┌───┬──────┬───────────┬───────────┬────────────┬────────────┬─────────┬─────────┬───────┐\n",
       "│   │ Name │   Value   │ Hesse Err │ Minos Err- │ Minos Err+ │ Limit-  │ Limit+  │ Fixed │\n",
       "├───┼──────┼───────────┼───────────┼────────────┼────────────┼─────────┼─────────┼───────┤\n",
       "│ 0 │ M_h  │ 10.000000 │ 0.000024  │            │            │   0.1   │   10    │       │\n",
       "│ 1 │ R_h  │100.0000e-3│ 0.0001e-3 │            │            │   0.1   │   10    │       │\n",
       "│ 2 │ M_b  │100.000e-3 │ 0.021e-3  │            │            │   0.1   │   10    │       │\n",
       "│ 3 │ M_d  │100.00000e-3│0.00012e-3 │            │            │   0.1   │   10    │       │\n",
       "└───┴──────┴───────────┴───────────┴────────────┴────────────┴─────────┴─────────┴───────┘\n",
       "┌─────┬─────────────────────────────────────┐\n",
       "│     │      M_h      R_h      M_b      M_d │\n",
       "├─────┼─────────────────────────────────────┤\n",
       "│ M_h │ 6.89e-16        0       -0       -0 │\n",
       "│ R_h │        0 9.37e-19        0        0 │\n",
       "│ M_b │       -0        0  2.5e-14       -0 │\n",
       "│ M_d │       -0        0       -0 6.93e-19 │\n",
       "└─────┴─────────────────────────────────────┘"
      ]
     },
     "execution_count": 40,
     "metadata": {},
     "output_type": "execute_result"
    }
   ],
   "source": [
    "minuit_chi2.migrad()"
   ]
  },
  {
   "cell_type": "code",
   "execution_count": 41,
   "id": "e69c48e9",
   "metadata": {},
   "outputs": [
    {
     "data": {
      "text/plain": [
       "[<matplotlib.lines.Line2D at 0x7cc248ace1d0>]"
      ]
     },
     "execution_count": 41,
     "metadata": {},
     "output_type": "execute_result"
    },
    {
     "data": {
      "image/png": "[encoded data removed]",
      "text/plain": [
       "<Figure size 432x288 with 1 Axes>"
      ]
     },
     "metadata": {
      "needs_background": "light"
     },
     "output_type": "display_data"
    }
   ],
   "source": [
    "y_pred_Iminuit = V_RAR(x, 10, 0.1, 0.1, 0.1)\n",
    "\n",
    "plt.plot(x, y_pred_Iminuit, '--')\n",
    "plt.plot(x, y, '.')"
   ]
  },
  {
   "cell_type": "code",
   "execution_count": null,
   "id": "d1b71e3d",
   "metadata": {},
   "outputs": [],
   "source": []
  },
  {
   "cell_type": "code",
   "execution_count": null,
   "id": "245bf1cc",
   "metadata": {},
   "outputs": [],
   "source": []
  }
 ],
 "metadata": {
  "kernelspec": {
   "display_name": "Python 3 (ipykernel)",
   "language": "python",
   "name": "python3"
  },
  "language_info": {
   "codemirror_mode": {
    "name": "ipython",
    "version": 3
   },
   "file_extension": ".py",
   "mimetype": "text/x-python",
   "name": "python",
   "nbconvert_exporter": "python",
   "pygments_lexer": "ipython3",
   "version": "3.10.12"
  }
 },
 "nbformat": 4,
 "nbformat_minor": 5
}
