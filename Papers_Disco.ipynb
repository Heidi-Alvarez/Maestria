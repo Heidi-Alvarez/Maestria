{
 "cells": [
  {
   "cell_type": "code",
   "execution_count": 1,
   "id": "8ca24935",
   "metadata": {},
   "outputs": [],
   "source": [
    "import numpy as np\n",
    "import matplotlib.pyplot as plt"
   ]
  },
  {
   "cell_type": "markdown",
   "id": "9a57b13e",
   "metadata": {},
   "source": [
    "En este código se intentará replicar los resultados de los artículos J. G. OBrien et al, 2018 y X. Lin et al, 2017 para los cuales las velocidades circulares mondianas para Simple y Standard son las siguientes:\n",
    "\n",
    "$V_{M} = \\frac{V_N}{2} \\sqrt{1 + \\sqrt{1 + \\frac{4a_0 R}{V^2_N}}}$  y $V_M = \\sqrt{ \\sqrt{ \\frac{V^4_N}{2} + \\sqrt{ \\frac{V^8_N}{4} + R^2 a^2_0 V^4_N }} }$ respectivamente.\n",
    "\n",
    "Para R.A.R. Tomamos la función te interpolación de V.Marra et al, 2020. De donde se obtiene que la velocidad circular mondiana es:\n",
    "\n",
    "$V_M = \\frac{V_N}{\\sqrt{ 1 - e^{-\\sqrt{ \\frac{V^2_N}{Ra_0} }} }}$.\n",
    "\n",
    "Primero se atacará el problema para el disco exponencial, posteriormente, se tratará el disco exponencial junto a el perfil de Hernquist."
   ]
  },
  {
   "cell_type": "code",
   "execution_count": 2,
   "id": "d14fc0b8",
   "metadata": {},
   "outputs": [],
   "source": [
    "## Creamos el vector r [1 kpc], desde 0 hasta 50 con paso de 0.01\n",
    "\n",
    "r = np.arange(0.001, 50.1, 0.01)  ## Unidad de referencia de longitud 1kpc\n",
    "\n",
    "## Definamos las constantes\n",
    "\n",
    "G = 430007.1  ## Unidad de referencia de tiempo 1.1Gyr\n",
    "\n",
    "a_0 = 4679.4 ## [kpc/Gyr^2]"
   ]
  },
  {
   "cell_type": "code",
   "execution_count": 3,
   "id": "126154ae",
   "metadata": {},
   "outputs": [
    {
     "name": "stderr",
     "output_type": "stream",
     "text": [
      "/usr/lib/python3/dist-packages/scipy/__init__.py:146: UserWarning: A NumPy version >=1.17.3 and <1.25.0 is required for this version of SciPy (detected version 1.26.3\n",
      "  warnings.warn(f\"A NumPy version >={np_minversion} and <{np_maxversion}\"\n"
     ]
    }
   ],
   "source": [
    "## Definimos las funciones de la velocidad circular del disco y del bulbo \n",
    "\n",
    "from scipy.special import i0, i1, k0, k1\n",
    "\n",
    "def V_Disco(M_d, R_d, r):\n",
    "    Sigma_0 = M_d/(2*np.pi*R_d*R_d)\n",
    "    y = r/(2.0*R_d)\n",
    "    vel_cir_disco_cuadrado = ((0.5*np.pi*G*Sigma_0*r*r)/R_d)*(i0(y)*k0(y) - i1(y)*k1(y))\n",
    "    V_Disco = np.sqrt(vel_cir_disco_cuadrado)\n",
    "    return V_Disco\n",
    "\n",
    "def V_Bulbo(M_b, b, r):\n",
    "    vel_cir_bulbo_cuadrado = (r*G*M_b)/((r+b)*(r+b))\n",
    "    V_Bulbo = np.sqrt(vel_cir_bulbo_cuadrado)\n",
    "    return V_Bulbo\n"
   ]
  },
  {
   "cell_type": "code",
   "execution_count": 4,
   "id": "5c3005f8",
   "metadata": {},
   "outputs": [],
   "source": [
    "## Definimos las velocidades circulares mondianas para R.A.R., Simple y Standard\n",
    "\n",
    "def V_RAR_Disco(M_d, R_d, r):\n",
    "    V_RAR_Disco = V_Disco(M_d, R_d, r) / (np.sqrt(1.0 - np.exp(-np.sqrt(V_Disco(M_d, R_d, r)*V_Disco(M_d, R_d, r) \n",
    "                                                                        / ( r * a_0 )))))\n",
    "    return V_RAR_Disco\n",
    "\n",
    "def V_Simple_Disco(M_d, R_d, r):\n",
    "    V_Simple_Disco = (V_Disco(M_d, R_d, r) / np.sqrt(2.0)) * np.sqrt(1.0 + 4.0*a_0*r / \n",
    "                                                                     (V_Disco(M_d, R_d, r)*V_Disco(M_d, R_d, r)))\n",
    "    return V_Simple_Disco\n",
    "\n",
    "def V_Standard_Disco(M_d, R_d, r):\n",
    "    V_N_4 = V_Disco(M_d, R_d, r) * V_Disco(M_d, R_d, r) * V_Disco(M_d, R_d, r) * V_Disco(M_d, R_d, r)\n",
    "    V_Standard_cuadrado = np.sqrt(V_N_4 / 2.0 + np.sqrt(V_N_4*V_N_4/4.0 + r*r*a_0*a_0*V_N_4))\n",
    "    V_Standard_Disco = np.sqrt(V_Standard_cuadrado)\n",
    "    return V_Standard_Disco"
   ]
  },
  {
   "cell_type": "code",
   "execution_count": 5,
   "id": "b802c4f7",
   "metadata": {},
   "outputs": [
    {
     "data": {
      "text/plain": [
       "<matplotlib.legend.Legend at 0x7da2be501e70>"
      ]
     },
     "execution_count": 5,
     "metadata": {},
     "output_type": "execute_result"
    },
    {
     "data": {
      "image/png": "[encoded data removed]",
      "text/plain": [
       "<Figure size 432x288 with 1 Axes>"
      ]
     },
     "metadata": {
      "needs_background": "light"
     },
     "output_type": "display_data"
    }
   ],
   "source": [
    "plt.plot(r, V_RAR_Disco(1, 1, r), label='R.A.R.')\n",
    "plt.plot(r, V_Simple_Disco(1, 1, r), label='Simple')\n",
    "plt.plot(r, V_Standard_Disco(1, 1, r), label='Standard')\n",
    "plt.legend()"
   ]
  },
  {
   "cell_type": "code",
   "execution_count": 6,
   "id": "a9c08a05",
   "metadata": {},
   "outputs": [],
   "source": [
    "## Agregamos el bulbo\n",
    "\n",
    "\n",
    "def V_RAR(M_b, b, M_d, R_d, r):\n",
    "    V_N = np.sqrt(V_Bulbo(M_b, b, r)*V_Bulbo(M_b, b, r) + V_Disco(M_d, R_d, r)*V_Disco(M_d, R_d, r))\n",
    "    V_RAR = V_N / (np.sqrt(1.0 - np.exp(-np.sqrt(V_N*V_N / ( r * a_0 )))))\n",
    "    return V_RAR\n",
    "\n",
    "def V_Simple(M_b, b, M_d, R_d, r):\n",
    "    V_N = np.sqrt(V_Bulbo(M_b, b, r)*V_Bulbo(M_b, b, r) + V_Disco(M_d, R_d, r)*V_Disco(M_d, R_d, r))\n",
    "    V_Simple = (V_N / np.sqrt(2.0)) * np.sqrt(1.0 + 4.0*a_0*r / (V_N*V_N))\n",
    "    return V_Simple\n",
    "\n",
    "def V_Standard(M_b, b, M_d, R_d, r):\n",
    "    V_N = np.sqrt(V_Bulbo(M_b, b, r)*V_Bulbo(M_b, b, r) + V_Disco(M_d, R_d, r)*V_Disco(M_d, R_d, r))\n",
    "    V_N_4 = V_N * V_N * V_N * V_N\n",
    "    V_Standard_cuadrado = np.sqrt(V_N_4 / 2.0 + np.sqrt(V_N_4*V_N_4/4.0 + r*r*a_0*a_0*V_N_4))\n",
    "    V_Standard = np.sqrt(V_Standard_cuadrado)\n",
    "    return V_Standard"
   ]
  },
  {
   "cell_type": "code",
   "execution_count": 7,
   "id": "1edbb302",
   "metadata": {},
   "outputs": [
    {
     "data": {
      "text/plain": [
       "<matplotlib.legend.Legend at 0x7da2bc404f40>"
      ]
     },
     "execution_count": 7,
     "metadata": {},
     "output_type": "execute_result"
    },
    {
     "data": {
      "image/png": "[encoded data removed]",
      "text/plain": [
       "<Figure size 432x288 with 1 Axes>"
      ]
     },
     "metadata": {
      "needs_background": "light"
     },
     "output_type": "display_data"
    }
   ],
   "source": [
    "plt.plot(r, V_RAR(0.5, 0.5, 1, 1, r), label='R.A.R.')\n",
    "plt.plot(r, V_Simple(0.5, 0.5, 1, 1, r), label='Simple')\n",
    "plt.plot(r, V_Standard(0.5, 0.5, 1, 1, r), label='Standard')\n",
    "plt.legend()"
   ]
  },
  {
   "cell_type": "code",
   "execution_count": 8,
   "id": "ccb2f7d2",
   "metadata": {},
   "outputs": [
    {
     "name": "stderr",
     "output_type": "stream",
     "text": [
      "/tmp/ipykernel_14598/2401265028.py:3: DeprecationWarning: \n",
      "Pyarrow will become a required dependency of pandas in the next major release of pandas (pandas 3.0),\n",
      "(to allow more performant data types, such as the Arrow string type, and better interoperability with other libraries)\n",
      "but was not found to be installed on your system.\n",
      "If this would cause problems for you,\n",
      "please provide us feedback at https://github.com/pandas-dev/pandas/issues/54466\n",
      "        \n",
      "  import pandas as pd\n",
      "/tmp/ipykernel_14598/2401265028.py:5: ParserWarning: Falling back to the 'python' engine because the 'c' engine does not support regex separators (separators > 1 char and different from '\\s+' are interpreted as regex); you can avoid this warning by specifying engine='python'.\n",
      "  datos = pd.read_csv('Datos_NGC2403_CurvaRotacion', sep='   ')\n"
     ]
    }
   ],
   "source": [
    "## Galaxia real\n",
    "\n",
    "import pandas as pd\n",
    "\n",
    "datos = pd.read_csv('Datos_NGC2403_CurvaRotacion', sep='   ')"
   ]
  },
  {
   "cell_type": "code",
   "execution_count": 9,
   "id": "9fe9b416",
   "metadata": {},
   "outputs": [
    {
     "data": {
      "text/html": [
       "<div>\n",
       "<style scoped>\n",
       "    .dataframe tbody tr th:only-of-type {\n",
       "        vertical-align: middle;\n",
       "    }\n",
       "\n",
       "    .dataframe tbody tr th {\n",
       "        vertical-align: top;\n",
       "    }\n",
       "\n",
       "    .dataframe thead th {\n",
       "        text-align: right;\n",
       "    }\n",
       "</style>\n",
       "<table border=\"1\" class=\"dataframe\">\n",
       "  <thead>\n",
       "    <tr style=\"text-align: right;\">\n",
       "      <th></th>\n",
       "      <th>R(kpc)</th>\n",
       "      <th>V(km/s)</th>\n",
       "    </tr>\n",
       "  </thead>\n",
       "  <tbody>\n",
       "    <tr>\n",
       "      <th>0</th>\n",
       "      <td>0.05</td>\n",
       "      <td>53.95123</td>\n",
       "    </tr>\n",
       "    <tr>\n",
       "      <th>1</th>\n",
       "      <td>0.10</td>\n",
       "      <td>60.44677</td>\n",
       "    </tr>\n",
       "    <tr>\n",
       "      <th>2</th>\n",
       "      <td>0.15</td>\n",
       "      <td>66.02752</td>\n",
       "    </tr>\n",
       "    <tr>\n",
       "      <th>3</th>\n",
       "      <td>0.20</td>\n",
       "      <td>69.54928</td>\n",
       "    </tr>\n",
       "    <tr>\n",
       "      <th>4</th>\n",
       "      <td>0.25</td>\n",
       "      <td>71.69053</td>\n",
       "    </tr>\n",
       "  </tbody>\n",
       "</table>\n",
       "</div>"
      ],
      "text/plain": [
       "   R(kpc)   V(km/s)\n",
       "0    0.05  53.95123\n",
       "1    0.10  60.44677\n",
       "2    0.15  66.02752\n",
       "3    0.20  69.54928\n",
       "4    0.25  71.69053"
      ]
     },
     "execution_count": 9,
     "metadata": {},
     "output_type": "execute_result"
    }
   ],
   "source": [
    "datos.head()"
   ]
  },
  {
   "cell_type": "code",
   "execution_count": 10,
   "id": "acd04c7c",
   "metadata": {},
   "outputs": [
    {
     "name": "stdout",
     "output_type": "stream",
     "text": [
      "<class 'pandas.core.frame.DataFrame'>\n",
      "RangeIndex: 394 entries, 0 to 393\n",
      "Data columns (total 2 columns):\n",
      " #   Column   Non-Null Count  Dtype  \n",
      "---  ------   --------------  -----  \n",
      " 0   R(kpc)   394 non-null    float64\n",
      " 1   V(km/s)  394 non-null    float64\n",
      "dtypes: float64(2)\n",
      "memory usage: 6.3 KB\n"
     ]
    }
   ],
   "source": [
    "datos.info()"
   ]
  },
  {
   "cell_type": "code",
   "execution_count": 11,
   "id": "95244d0d",
   "metadata": {},
   "outputs": [],
   "source": [
    "x = np.array(datos['R(kpc)'])\n",
    "y = np.array(datos['V(km/s)'])"
   ]
  },
  {
   "cell_type": "code",
   "execution_count": 12,
   "id": "d451b63d",
   "metadata": {},
   "outputs": [
    {
     "data": {
      "text/plain": [
       "<matplotlib.collections.PathCollection at 0x7da2ba1c2d40>"
      ]
     },
     "execution_count": 12,
     "metadata": {},
     "output_type": "execute_result"
    },
    {
     "data": {
      "image/png": "[encoded data removed]",
      "text/plain": [
       "<Figure size 432x288 with 1 Axes>"
      ]
     },
     "metadata": {
      "needs_background": "light"
     },
     "output_type": "display_data"
    }
   ],
   "source": [
    "plt.scatter(x, y)"
   ]
  },
  {
   "cell_type": "markdown",
   "id": "d8ce4f81",
   "metadata": {},
   "source": [
    "Ahora vamos a probar las velocidades circulares mondianas con una galaxia real, de la cual sabemos, según X. Kang et al, 2023, que $R_d = 1.6 Kpc$ y la masa estelar $M_{estelar} = 5.01 x 10^9 M_{solares}$."
   ]
  },
  {
   "cell_type": "code",
   "execution_count": 13,
   "id": "2e704d83",
   "metadata": {},
   "outputs": [],
   "source": [
    "from scipy.optimize import curve_fit"
   ]
  },
  {
   "cell_type": "code",
   "execution_count": 14,
   "id": "680b9500",
   "metadata": {},
   "outputs": [
    {
     "name": "stdout",
     "output_type": "stream",
     "text": [
      "Error M_b: 13.900598365281422 \n",
      "Error R_b: 15289.658511324726 \n",
      "Error M_d: 63729285.31572372 \n",
      "Error R_d: 41.28946614732924\n",
      "M_b= 0.9999999999999999 \n",
      "R_b= 0.0010000000000000002 \n",
      "M_d= 9.999999999999998 \n",
      "R_d= 2.9999999999999996\n"
     ]
    },
    {
     "data": {
      "text/plain": [
       "<matplotlib.legend.Legend at 0x7da2ba313b20>"
      ]
     },
     "execution_count": 14,
     "metadata": {},
     "output_type": "execute_result"
    },
    {
     "data": {
      "image/png": "[encoded data removed]",
      "text/plain": [
       "<Figure size 432x288 with 1 Axes>"
      ]
     },
     "metadata": {
      "needs_background": "light"
     },
     "output_type": "display_data"
    }
   ],
   "source": [
    "## R.A.R.\n",
    "\n",
    "## Recordemos: V_RAR(M_b, b, M_d, R_d, r)\n",
    "\n",
    "p_inicial = (0.5, 0.5, 1.0, 1.0)\n",
    "\n",
    "limite_inferior = [0.001, 0.001, 0.1, 1]\n",
    "limite_superior = [1, 1.0, 10.0, 3.0]\n",
    "\n",
    "params_RAR, cov_RAR = curve_fit(V_RAR, x, y, method='trf', p0=p_inicial, bounds=(limite_inferior, limite_superior))\n",
    "\n",
    "\n",
    "error_RAR = np.sqrt(np.diag(cov_RAR))\n",
    "\n",
    "print('Error M_b:', error_RAR[0], '\\nError R_b:', error_RAR[1], '\\nError M_d:', error_RAR[2], \n",
    "      '\\nError R_d:', error_RAR[3])\n",
    "\n",
    "\n",
    "print('M_b=', params_RAR[0], '\\nR_b=', params_RAR[1], '\\nM_d=', params_RAR[2], '\\nR_d=', params_RAR[3])\n",
    "\n",
    "y_pred_RAR = V_RAR(x, params_RAR[0], params_RAR[1], params_RAR[2], params_RAR[3])\n",
    "\n",
    "\n",
    "plt.plot(x, y_pred_RAR, '--', label='RAR')\n",
    "plt.plot(x, y, '*', label='Datos')\n",
    "plt.legend()"
   ]
  },
  {
   "cell_type": "code",
   "execution_count": 15,
   "id": "b26e2c13",
   "metadata": {},
   "outputs": [
    {
     "name": "stdout",
     "output_type": "stream",
     "text": [
      "Error M_b: 113258.28715216652 \n",
      "Error R_b: 4234577.71855812 \n",
      "Error M_d: 44880200.65654347 \n",
      "Error R_d: 339774.8209207311\n",
      "M_b= 0.9999999999999999 \n",
      "R_b= 0.0010000000000000002 \n",
      "M_d= 9.999999999999998 \n",
      "R_d= 2.9999999999999996\n"
     ]
    },
    {
     "data": {
      "text/plain": [
       "<matplotlib.legend.Legend at 0x7da2ba211480>"
      ]
     },
     "execution_count": 15,
     "metadata": {},
     "output_type": "execute_result"
    },
    {
     "data": {
      "image/png": "[encoded data removed]",
      "text/plain": [
       "<Figure size 432x288 with 1 Axes>"
      ]
     },
     "metadata": {
      "needs_background": "light"
     },
     "output_type": "display_data"
    }
   ],
   "source": [
    "## Simple\n",
    "\n",
    "## Recordemos: V_Simple(M_b, b, M_d, R_d, r)\n",
    "\n",
    "p_inicial = (0.5, 0.5, 1.0, 1.0)\n",
    "\n",
    "limite_inferior = [0.001, 0.001, 0.1, 1]\n",
    "limite_superior = [1, 1.0, 10.0, 3.0]\n",
    "\n",
    "params_Simple, cov_Simple = curve_fit(V_Simple, x, y, method='trf', p0=p_inicial, \n",
    "                                      bounds=(limite_inferior, limite_superior))\n",
    "\n",
    "\n",
    "error_Simple = np.sqrt(np.diag(cov_Simple))\n",
    "\n",
    "print('Error M_b:', error_Simple[0], '\\nError R_b:', error_Simple[1], '\\nError M_d:', error_Simple[2], \n",
    "      '\\nError R_d:', error_Simple[3])\n",
    "\n",
    "\n",
    "print('M_b=', params_Simple[0], '\\nR_b=', params_Simple[1], '\\nM_d=', params_Simple[2], '\\nR_d=', params_Simple[3])\n",
    "\n",
    "y_pred_Simple = V_Simple(x, params_Simple[0], params_Simple[1], params_Simple[2], params_Simple[3])\n",
    "\n",
    "\n",
    "plt.plot(x, y_pred_Simple, '--', label='Simple')\n",
    "plt.plot(x, y, '*', label='Datos')\n",
    "plt.legend()"
   ]
  },
  {
   "cell_type": "code",
   "execution_count": 16,
   "id": "7b7ed295",
   "metadata": {},
   "outputs": [
    {
     "name": "stdout",
     "output_type": "stream",
     "text": [
      "Error M_b: 33.18239690969942 \n",
      "Error R_b: 13515.34808634104 \n",
      "Error M_d: 56339221.27062559 \n",
      "Error R_d: 98.88003254247444\n",
      "M_b= 0.9999999999999999 \n",
      "R_b= 0.0010000000000000002 \n",
      "M_d= 9.999999999999998 \n",
      "R_d= 2.9999999999999996\n"
     ]
    },
    {
     "data": {
      "text/plain": [
       "<matplotlib.legend.Legend at 0x7da2b1787cd0>"
      ]
     },
     "execution_count": 16,
     "metadata": {},
     "output_type": "execute_result"
    },
    {
     "data": {
      "image/png": "[encoded data removed]",
      "text/plain": [
       "<Figure size 432x288 with 1 Axes>"
      ]
     },
     "metadata": {
      "needs_background": "light"
     },
     "output_type": "display_data"
    }
   ],
   "source": [
    "## Standard\n",
    "\n",
    "## Recordemos: V_Standard(M_b, b, M_d, R_d, r)\n",
    "\n",
    "p_inicial = (0.5, 0.5, 1.0, 1.0)\n",
    "\n",
    "limite_inferior = [0.001, 0.001, 0.1, 1]\n",
    "limite_superior = [1, 1.0, 10.0, 3.0]\n",
    "\n",
    "params_Standard, cov_Standard = curve_fit(V_Standard, x, y, method='trf', p0=p_inicial, \n",
    "                                      bounds=(limite_inferior, limite_superior))\n",
    "\n",
    "\n",
    "error_Standard = np.sqrt(np.diag(cov_Standard))\n",
    "\n",
    "print('Error M_b:', error_Standard[0], '\\nError R_b:', error_Standard[1], '\\nError M_d:', error_Standard[2], \n",
    "      '\\nError R_d:', error_Standard[3])\n",
    "\n",
    "\n",
    "print('M_b=', params_Standard[0], '\\nR_b=', params_Standard[1], '\\nM_d=', params_Standard[2], \n",
    "      '\\nR_d=', params_Standard[3])\n",
    "\n",
    "y_pred_Standard = V_Standard(x, params_Standard[0], params_Standard[1], params_Standard[2], params_Standard[3])\n",
    "\n",
    "\n",
    "plt.plot(x, y_pred_Standard, '--', label='Standard')\n",
    "plt.plot(x, y, '*', label='Datos')\n",
    "plt.legend()"
   ]
  },
  {
   "cell_type": "code",
   "execution_count": 17,
   "id": "358f079c",
   "metadata": {},
   "outputs": [
    {
     "data": {
      "text/plain": [
       "<matplotlib.legend.Legend at 0x7da2b15f0460>"
      ]
     },
     "execution_count": 17,
     "metadata": {},
     "output_type": "execute_result"
    },
    {
     "data": {
      "image/png": "[encoded data removed]",
      "text/plain": [
       "<Figure size 432x288 with 1 Axes>"
      ]
     },
     "metadata": {
      "needs_background": "light"
     },
     "output_type": "display_data"
    }
   ],
   "source": [
    "plt.plot(x, y_pred_RAR, '--', label='RAR')\n",
    "plt.plot(x, y_pred_Simple, '--', label='Simple')\n",
    "plt.plot(x, y_pred_Standard, '--', label='Standard')\n",
    "plt.plot(x, y, '*', label='Datos')\n",
    "plt.legend()"
   ]
  },
  {
   "cell_type": "code",
   "execution_count": null,
   "id": "ccc4d041",
   "metadata": {},
   "outputs": [],
   "source": []
  }
 ],
 "metadata": {
  "kernelspec": {
   "display_name": "Python 3 (ipykernel)",
   "language": "python",
   "name": "python3"
  },
  "language_info": {
   "codemirror_mode": {
    "name": "ipython",
    "version": 3
   },
   "file_extension": ".py",
   "mimetype": "text/x-python",
   "name": "python",
   "nbconvert_exporter": "python",
   "pygments_lexer": "ipython3",
   "version": "3.10.12"
  }
 },
 "nbformat": 4,
 "nbformat_minor": 5
}
